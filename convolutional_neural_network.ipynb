{
  "nbformat": 4,
  "nbformat_minor": 0,
  "metadata": {
    "colab": {
      "name": "convolutional neural network.ipynb",
      "provenance": [],
      "collapsed_sections": [],
      "authorship_tag": "ABX9TyPXgzP/wOu9yCTqUAYd5WtX",
      "include_colab_link": true
    },
    "kernelspec": {
      "name": "python3",
      "display_name": "Python 3"
    },
    "language_info": {
      "name": "python"
    }
  },
  "cells": [
    {
      "cell_type": "markdown",
      "metadata": {
        "id": "view-in-github",
        "colab_type": "text"
      },
      "source": [
        "<a href=\"https://colab.research.google.com/github/HasibAlMuzdadid/Convolutional-Neural-Network/blob/main/convolutional_neural_network.ipynb\" target=\"_parent\"><img src=\"https://colab.research.google.com/assets/colab-badge.svg\" alt=\"Open In Colab\"/></a>"
      ]
    },
    {
      "cell_type": "markdown",
      "source": [
        "**Convolutional Neural Network**"
      ],
      "metadata": {
        "id": "izmw2nnFDeBF"
      }
    },
    {
      "cell_type": "code",
      "execution_count": null,
      "metadata": {
        "id": "iJFPEfLXDcEz"
      },
      "outputs": [],
      "source": [
        "import numpy as np\n",
        "import h5py\n",
        "import matplotlib.pyplot as plt"
      ]
    },
    {
      "cell_type": "markdown",
      "source": [
        "A convolution layer transforms an input volume into an output volume of different size.\n",
        "\n",
        "we will build every step of the convolution layer. We will first implement two helper functions: one for zero padding and the other for computing the convolution function itself. "
      ],
      "metadata": {
        "id": "Edq7pB_TE0sk"
      }
    },
    {
      "cell_type": "markdown",
      "source": [
        "**Zero Padding**"
      ],
      "metadata": {
        "id": "pXW-7JGdFSJZ"
      }
    },
    {
      "cell_type": "markdown",
      "source": [
        "Zero padding adds zeros around the border of an image.\n",
        "\n",
        "- It allows us to use a CONV layer without necessarily shrinking the height and width of the volumes. This is important for building deeper networks, since otherwise the height/width would shrink as we go to deeper layers. An important special case is the \"same\" convolution, in which the height/width is exactly preserved after one layer. \n",
        "\n",
        "- It helps us keep more of the information at the border of an image. Without padding, very few values at the next layer would be affected by pixels at the edges of an image.\n"
      ],
      "metadata": {
        "id": "zgyTG4p2FZ3Z"
      }
    },
    {
      "cell_type": "code",
      "source": [
        "def zero_pad(X, pad):\n",
        "    \n",
        "    # X -> python numpy array of shape (m, n_H, n_W, n_C) representing a batch of m images\n",
        "    # pad -> integer, amount of padding around each image on vertical and horizontal dimensions\n",
        "    # X_pad -> padded image of shape (m, n_H + 2 * pad, n_W + 2 * pad, n_C)\n",
        "\n",
        "    X_pad = np.pad(X, ((0, 0), (pad, pad), (pad, pad), (0, 0)), \"constant\", constant_values=(0, 0))\n",
        "    \n",
        "    return X_pad"
      ],
      "metadata": {
        "id": "HfFMiRcVFN0o"
      },
      "execution_count": null,
      "outputs": []
    },
    {
      "cell_type": "markdown",
      "source": [
        "**Single Step of Convolution**\n",
        "\n",
        "We will implement a single step of convolution, in which we will apply the filter to a single position of the input. This will be used to build a convolutional unit, which: \n",
        "\n",
        "- Takes an input volume \n",
        "- Applies a filter at every position of the input\n",
        "- Outputs another volume (usually of different size)\n",
        "\n",
        "We will convolve a 3x3 filter with the image by multiplying its values element-wise with the original matrix, then summing them up and adding a bias. In this first step of the exercise, we will implement a single step of convolution, corresponding to applying a filter to just one of the positions to get a single real-valued output. \n",
        "\n",
        "Later in this notebook, we'll apply this function to multiple positions of the input to implement the full convolutional operation.\n"
      ],
      "metadata": {
        "id": "ze_OgEkWG7f-"
      }
    },
    {
      "cell_type": "code",
      "source": [
        "# single step convolution\n",
        "\n",
        "def conv_single_step(a_slice_prev, W, b):\n",
        "    \n",
        "    # a_slice_prev -> slice of input data of shape (f, f, n_C_prev)\n",
        "    # W -> Weight parameters contained in a window - matrix of shape (f, f, n_C_prev)\n",
        "    # b -> Bias parameters contained in a window - matrix of shape (1, 1, 1)\n",
        "    # Z -> a scalar value, the result of convolving the sliding window (W, b) on a slice x of the input data\n",
        "  \n",
        "    s = a_slice_prev * W                        # Element-wise product between a_slice_prev and W   \n",
        "    Z = np.sum(s)                               # Sum over all entries of the volume s  \n",
        "    Z = Z + float(b)                            # Add bias b to Z. Cast b to a float() so that Z results in a scalar value\n",
        "\n",
        "    return Z"
      ],
      "metadata": {
        "id": "dNBvQp4xI7Tw"
      },
      "execution_count": null,
      "outputs": []
    },
    {
      "cell_type": "markdown",
      "source": [
        "**Convolutional Neural Network - Forward Pass**\n",
        "\n",
        "We will take many filters and convolve them on the input. Each 'convolution' gives a 2D matrix output. We will then stack these outputs to get a 3D volume.\n",
        "\n",
        "The formulas relating the output shape of the convolution to the input shape are:\n",
        "    \n",
        "$$n_H = \\Bigl\\lfloor \\frac{n_{H_{prev}} - f + 2 \\times pad}{stride} \\Bigr\\rfloor +1$$\n",
        "$$n_W = \\Bigl\\lfloor \\frac{n_{W_{prev}} - f + 2 \\times pad}{stride} \\Bigr\\rfloor +1$$\n",
        "$$n_C = \\text{number of filters used in the convolution}$$"
      ],
      "metadata": {
        "id": "WCfzGgX1KFF7"
      }
    },
    {
      "cell_type": "code",
      "source": [
        "# forward convolution\n",
        "\n",
        "def conv_forward(A_prev, W, b, hparameters):\n",
        "   \n",
        "    # A_prev -> output activations of the previous layer, numpy array of shape (m, n_H_prev, n_W_prev, n_C_prev)\n",
        "    # W -> Weights, numpy array of shape (f, f, n_C_prev, n_C)\n",
        "    # b -> Biases, numpy array of shape (1, 1, 1, n_C)\n",
        "    # hparameters -> python dictionary containing \"stride\" and \"pad\"\n",
        "    # Z -> conv output, numpy array of shape (m, n_H, n_W, n_C)\n",
        "    # cache -> cache of values needed for the conv_backward() function\n",
        "\n",
        "  \n",
        "    (m, n_H_prev, n_W_prev, n_C_prev) = np.shape(A_prev)                      # Retrieve dimensions from A_prev's shape\n",
        "    (f, f, n_C_prev, n_C) = np.shape(W)                                       # Retrieve dimensions from W's shape\n",
        "    \n",
        "    stride = hparameters['stride']                                            # Retrieve information from \"hparameters\"\n",
        "    pad = hparameters['pad']\n",
        "    \n",
        "    n_H = int((n_H_prev - f + 2 * pad) / stride) + 1                          # Compute the dimensions of the CONV output volume using the formula \n",
        "    n_W = int((n_W_prev - f + 2 * pad) / stride) + 1                          # Use int() to apply the 'floor' operation\n",
        "    \n",
        "    Z = np.zeros((m, n_H, n_W, n_C))                                          # Initialize the output volume Z with zeros\n",
        "    \n",
        "    A_prev_pad = zero_pad(A_prev, pad)                                        # Create A_prev_pad by padding A_prev\n",
        "    \n",
        "    for i in range(m):                                                        # loop over the batch of training examples\n",
        "        a_prev_pad = A_prev_pad[i,:,:,:]                                      # Select ith training example's padded activation\n",
        "        \n",
        "        for h in range(n_H):                                                  # loop over vertical axis of the output volume                                                                  \n",
        "            vert_start = h * stride                                           # Find the vertical start and end of the current \"slice\"\n",
        "            vert_end = h * stride+ f\n",
        "            \n",
        "            for w in range(n_W):                                              # loop over horizontal axis of the output volume\n",
        "                horiz_start = w * stride                                      # Find the horizontal start and end of the current \"slice\"\n",
        "                horiz_end = w * stride + f\n",
        "                \n",
        "                for c in range(n_C):                                          # loop over channels (= #filters) of the output volume\n",
        "                    a_slice_prev = a_prev_pad[vert_start:vert_end,horiz_start:horiz_end,:]         # Use the corners to define the (3D) slice of a_prev_pad \n",
        "                                       \n",
        "                    weights = W[:, :, :, c]                                   # Convolve the (3D) slice with the correct filter W and bias b, to get back one output neuron\n",
        "                    biases  = b[:, :, :, c]\n",
        "                    Z[i, h, w, c] = conv_single_step(a_slice_prev, weights, biases)\n",
        "    \n",
        "    \n",
        "    cache = (A_prev, W, b, hparameters)                                       # Save information in \"cache\" for the backprop\n",
        "    \n",
        "    \n",
        "    return Z, cache"
      ],
      "metadata": {
        "id": "zy8RncVMKoVj"
      },
      "execution_count": null,
      "outputs": []
    },
    {
      "cell_type": "markdown",
      "source": [
        "**Pooling Layer** \n",
        "\n",
        "The pooling (POOL) layer reduces the height and width of the input. It helps in reducing computation, as well as helps to make feature detectors more invariant to its position in the input. The two types of pooling layers are: \n",
        "\n",
        "- Max-pooling layer : slides an ($f, f$) window over the input and stores the max value of the window in the output.\n",
        "\n",
        "- Average-pooling layer : slides an ($f, f$) window over the input and stores the average value of the window in the output.\n",
        "\n",
        "These pooling layers have no parameters for backpropagation to train. However, they have hyperparameters such as the window size $f$. This specifies the height and width of the $f \\times f$ window we would compute a *max* or *average* over. \n",
        "\n",
        "the formulas binding the output shape of the pooling to the input shape are:\n",
        "\n",
        "$$n_H = \\Bigl\\lfloor \\frac{n_{H_{prev}} - f}{stride} \\Bigr\\rfloor +1$$\n",
        "\n",
        "$$n_W = \\Bigl\\lfloor \\frac{n_{W_{prev}} - f}{stride} \\Bigr\\rfloor +1$$\n",
        "\n",
        "$$n_C = n_{C_{prev}}$$"
      ],
      "metadata": {
        "id": "S1OpTZSXN2Rk"
      }
    },
    {
      "cell_type": "code",
      "source": [
        "# forward pooling\n",
        "\n",
        "def pool_forward(A_prev, hparameters, mode = \"max\"):\n",
        "    \n",
        "    # A_prev -> Input data, numpy array of shape (m, n_H_prev, n_W_prev, n_C_prev)\n",
        "    # hparameters -> python dictionary containing \"f\" and \"stride\"\n",
        "    # mode -> the pooling mode we would like to use, defined as a string (\"max\" or \"average\")\n",
        "    # A -> output of the pool layer, a numpy array of shape (m, n_H, n_W, n_C)\n",
        "    # cache -> cache used in the backward pass of the pooling layer, contains the input and hparameters \n",
        "\n",
        "    (m, n_H_prev, n_W_prev, n_C_prev) = A_prev.shape                        # Retrieve dimensions from the input shape\n",
        "    \n",
        "    f = hparameters[\"f\"]                                                    # Retrieve hyperparameters from \"hparameters\"\n",
        "    stride = hparameters[\"stride\"]\n",
        "    \n",
        "    n_H = int(1 + (n_H_prev - f) / stride)                                  # Define the dimensions of the output\n",
        "    n_W = int(1 + (n_W_prev - f) / stride)\n",
        "    n_C = n_C_prev\n",
        "    \n",
        "    A = np.zeros((m, n_H, n_W, n_C))                                        # Initialize output matrix A   \n",
        "    \n",
        "   \n",
        "    for i in range(m):                                                      # loop over the training examples\n",
        "\n",
        "        for h in range(n_H):                                                # loop on the vertical axis of the output volume\n",
        "            vert_start = stride * h                                         # Find the vertical start and end of the current \"slice\"\n",
        "            vert_end = vert_start + f\n",
        "            \n",
        "            for w in range(n_W):                                            # loop on the horizontal axis of the output volume\n",
        "                horiz_start = stride * w                                    # Find the horizontal start and end of the current \"slice\"\n",
        "                horiz_end = horiz_start + f\n",
        "                \n",
        "                for c in range (n_C):                                       # loop over the channels of the output volume\n",
        "                    a_prev_slice = A_prev[i, vert_start:vert_end, horiz_start:horiz_end,c]       # Use the corners to define the current slice on the ith training example of A_prev, channel c\n",
        "                    \n",
        "                    if mode == \"max\":                                       # Compute the pooling operation on the slice\n",
        "                        A[i, h, w, c] = np.max(a_prev_slice)\n",
        "                    elif mode == \"average\":\n",
        "                        A[i, h, w, c] = np.mean(a_prev_slice)\n",
        "    \n",
        "    \n",
        "    cache = (A_prev, hparameters)                                           # Store the input and hparameters in \"cache\" for pool_backward()\n",
        "    \n",
        "    return A, cache"
      ],
      "metadata": {
        "id": "fYm_HNI1PI0A"
      },
      "execution_count": null,
      "outputs": []
    },
    {
      "cell_type": "markdown",
      "source": [
        "**Backpropagation in Convolutional Neural Network**"
      ],
      "metadata": {
        "id": "RWvSNOVrUB8M"
      }
    },
    {
      "cell_type": "markdown",
      "source": [
        "***Computing dA:***\n",
        "\n",
        "This is the formula for computing $dA$ with respect to the cost for a certain filter $W_c$ and a given training example:\n",
        "\n",
        "$$dA \\mathrel{+}= \\sum _{h=0} ^{n_H} \\sum_{w=0} ^{n_W} W_c \\times dZ_{hw} \\tag{1}$$\n",
        "\n",
        "Where, $W_c$ is a filter and $dZ_{hw}$ is a scalar corresponding to the gradient of the cost with respect to the output of the conv layer Z at the hth row and wth column (corresponding to the dot product taken at the ith stride left and jth stride down). Note that at each time, we multiply the the same filter $W_c$ by a different dZ when updating dA. We do so mainly because when computing the forward propagation, each filter is dotted and summed by a different a_slice. Therefore when computing the backprop for dA, we are just adding the gradients of all the a_slices. \n",
        "\n",
        "\n",
        "\n",
        "In code, inside the appropriate for-loops, this formula translates into:\n",
        "```python\n",
        "da_prev_pad[vert_start:vert_end, horiz_start:horiz_end, :] += W[:,:,:,c] * dZ[i, h, w, c]\n",
        "```"
      ],
      "metadata": {
        "id": "XX4Wo4H4UJdR"
      }
    },
    {
      "cell_type": "markdown",
      "source": [
        "***Computing dW:***\n",
        "\n",
        "This is the formula for computing $dW_c$ ($dW_c$ is the derivative of one filter) with respect to the loss:\n",
        "\n",
        "$$dW_c  \\mathrel{+}= \\sum _{h=0} ^{n_H} \\sum_{w=0} ^ {n_W} a_{slice} \\times dZ_{hw}  \\tag{2}$$\n",
        "\n",
        "Where $a_{slice}$ corresponds to the slice which was used to generate the activation $Z_{ij}$. Hence, this ends up giving us the gradient for $W$ with respect to that slice. Since it is the same $W$, we will just add up all such gradients to get $dW$. \n",
        "\n",
        "\n",
        "\n",
        "In code, inside the appropriate for-loops, this formula translates into:\n",
        "```python\n",
        "dW[:,:,:,c] \\mathrel{+}= a_slice * dZ[i, h, w, c]\n",
        "```"
      ],
      "metadata": {
        "id": "CIx3ktZoVW10"
      }
    },
    {
      "cell_type": "markdown",
      "source": [
        "***Computing db:***\n",
        "\n",
        "This is the formula for computing $db$ with respect to the cost for a certain filter $W_c$:\n",
        "\n",
        "$$db = \\sum_h \\sum_w dZ_{hw} \\tag{3}$$\n",
        "\n",
        "As we know in basic neural networks, db is computed by summing $dZ$. In this case, we are just summing over all the gradients of the conv output (Z) with respect to the cost. \n",
        "\n",
        "\n",
        "In code, inside the appropriate for-loops, this formula translates into:\n",
        "```python\n",
        "db[:,:,:,c] += dZ[i, h, w, c]\n",
        "```\n"
      ],
      "metadata": {
        "id": "BBfBqhTfVgHb"
      }
    },
    {
      "cell_type": "code",
      "source": [
        "# backword convolution\n",
        "\n",
        "def conv_backward(dZ, cache):\n",
        "\n",
        "    # dZ -> gradient of the cost with respect to the output of the conv layer (Z), numpy array of shape (m, n_H, n_W, n_C)\n",
        "    # cache -> cache of values needed for the conv_backward(), output of conv_forward()\n",
        "    # \n",
        "    # Returns:\n",
        "    # dA_prev -> gradient of the cost with respect to the input of the conv layer (A_prev), numpy array of shape (m, n_H_prev, n_W_prev, n_C_prev)\n",
        "    # dW -> gradient of the cost with respect to the weights of the conv layer (W), numpy array of shape (f, f, n_C_prev, n_C)\n",
        "    # db -> gradient of the cost with respect to the biases of the conv layer (b), numpy array of shape (1, 1, 1, n_C)\n",
        "    \n",
        "    (A_prev, W, b, hparameters) = cache                                   # Retrieve information from \"cache\"\n",
        "   \n",
        "    (m, n_H_prev, n_W_prev, n_C_prev) = A_prev.shape                      # Retrieve dimensions from A_prev's shape\n",
        "   \n",
        "    (f, f, n_C_prev, n_C) = W.shape                                       # Retrieve dimensions from W's shape\n",
        "    \n",
        "    stride = hparameters[\"stride\"]                                        # Retrieve information from \"hparameters\"\n",
        "    pad = hparameters[\"pad\"]\n",
        "    \n",
        "    (m, n_H, n_W, n_C) = dZ.shape                                         # Retrieve dimensions from dZ's shape\n",
        "    \n",
        "    dA_prev = np.zeros(A_prev.shape)                                      # Initialize dA_prev, dW, db with the correct shapes            \n",
        "    dW = np.zeros(W.shape)\n",
        "    db = np.zeros(b.shape)                                                # b.shape = [1,1,1,n_C]\n",
        "    \n",
        "    A_prev_pad = zero_pad(A_prev, pad)                                    # Pad A_prev and dA_prev\n",
        "    dA_prev_pad = zero_pad(dA_prev, pad)\n",
        "    \n",
        "    for i in range(m):                                                    # loop over the training examples           \n",
        "        a_prev_pad = A_prev_pad[i]                                        # select ith training example from A_prev_pad and dA_prev_pad\n",
        "        da_prev_pad = dA_prev_pad[i]\n",
        "        \n",
        "        for h in range(n_H):                                              # loop over vertical axis of the output volume         \n",
        "            for w in range(n_W):                                          # loop over horizontal axis of the output volume\n",
        "                for c in range(n_C):                                      # loop over the channels of the output volume\n",
        "                    \n",
        "                    vert_start = stride * h                               # Find the corners of the current \"slice\"\n",
        "                    vert_end = vert_start + f\n",
        "                    horiz_start = stride * w\n",
        "                    horiz_end = horiz_start + f\n",
        "                    \n",
        "                    a_slice = a_prev_pad[vert_start:vert_end,horiz_start:horiz_end,:]          # Use the corners to define the slice from a_prev_pad\n",
        "\n",
        "                    da_prev_pad[vert_start:vert_end, horiz_start:horiz_end, :] += W[:,:,:,c] * dZ[i, h, w, c]       # Update gradients for the window and the filter's parameters using the code formulas given above\n",
        "                    dW[:,:,:,c] += a_slice * dZ[i, h, w, c]\n",
        "                    db[:,:,:,c] += dZ[i, h, w, c]\n",
        "    \n",
        "        dA_prev[i, :, :, :] = da_prev_pad[pad:-pad, pad:-pad, :]          # Set the ith training example's dA_prev to the unpadded da_prev_pad\n",
        "\n",
        "    \n",
        "    return dA_prev, dW, db"
      ],
      "metadata": {
        "id": "z0MbtgG2VqkA"
      },
      "execution_count": null,
      "outputs": []
    },
    {
      "cell_type": "markdown",
      "source": [
        "**Pooling Layer - Backward Pass**\n",
        "\n",
        "Even though a pooling layer has no parameters for backprop to update, we still need to backpropagate the gradient through the pooling layer in order to compute gradients for layers that came before the pooling layer."
      ],
      "metadata": {
        "id": "D_YHPZA0YSzK"
      }
    },
    {
      "cell_type": "markdown",
      "source": [
        "***Max Pooling - Backward Pass*** \n",
        "\n",
        "Before jumping into the backpropagation of the pooling layer, we are going to build a helper function called `create_mask_from_window()` which does the following: \n",
        "\n",
        "$$ X = \\begin{bmatrix}\n",
        "1 && 3 \\\\\n",
        "4 && 2\n",
        "\\end{bmatrix} \\quad \\rightarrow  \\quad M =\\begin{bmatrix}\n",
        "0 && 0 \\\\\n",
        "1 && 0\n",
        "\\end{bmatrix}\\tag{4}$$\n",
        "\n",
        "As we can see, this function creates a \"mask\" matrix which keeps track of where the maximum of the matrix is. True (1) indicates the position of the maximum in X, the other entries are False (0). \n",
        "\n",
        "- If you have a matrix X and a scalar x : `A = (X == x)` will return a matrix A of the same size as X such that:\n",
        "```\n",
        "A[i,j] = True if X[i,j] = x\n",
        "A[i,j] = False if X[i,j] != x\n",
        "```"
      ],
      "metadata": {
        "id": "qEaciTMUdGvn"
      }
    },
    {
      "cell_type": "code",
      "source": [
        "def create_mask_from_window(x):\n",
        "\n",
        "    # x -> Array of shape (f, f)\n",
        "    # mask -> Array of the same shape as window, contains a True at the position corresponding to the max entry of x.\n",
        "\n",
        "    mask = (x == np.max(x))\n",
        "\n",
        "    return mask"
      ],
      "metadata": {
        "id": "YK9fSb-idxIm"
      },
      "execution_count": null,
      "outputs": []
    },
    {
      "cell_type": "markdown",
      "source": [
        "***Average Pooling - Backward Pass*** \n",
        "\n",
        "In max pooling, for each input window, all the \"influence\" on the output came from a single input value--the max. In average pooling, every element of the input window has equal influence on the output. So to implement backprop, we will now implement a helper function that reflects this.\n",
        "\n",
        "For example if we did average pooling in the forward pass using a 2x2 filter, then the mask we'll use for the backward pass will look like: \n",
        "$$ dZ = 1 \\quad \\rightarrow  \\quad dZ =\\begin{bmatrix}\n",
        "1/4 && 1/4 \\\\\n",
        "1/4 && 1/4\n",
        "\\end{bmatrix}\\tag{5}$$\n",
        "\n",
        "This implies that each position in the $dZ$ matrix contributes equally to output because in the forward pass, we took an average."
      ],
      "metadata": {
        "id": "DeZ3FXJXeb6d"
      }
    },
    {
      "cell_type": "code",
      "source": [
        "def distribute_value(dz, shape):\n",
        "   \n",
        "    # dz -> input scalar\n",
        "    # shape -> the shape (n_H, n_W) of the output matrix for which we want to distribute the value of dz\n",
        "    # a -> Array of size (n_H, n_W) for which we distributed the value of dz\n",
        " \n",
        "    (n_H, n_W) = shape                                  # Retrieve dimensions from shape\n",
        "    average = np.prod(shape)                            # Compute the value to distribute on the matrix \n",
        "    a = (dz/average)*np.ones(shape)                     # Create a matrix where every entry is the \"average\" value\n",
        "\n",
        "    return a"
      ],
      "metadata": {
        "id": "iD1TIuohexnE"
      },
      "execution_count": null,
      "outputs": []
    },
    {
      "cell_type": "markdown",
      "source": [
        "**Putting It Together: Pooling Backward**\n",
        "\n",
        "\n"
      ],
      "metadata": {
        "id": "yMt75xzcfbip"
      }
    },
    {
      "cell_type": "code",
      "source": [
        "# backward pass of the pooling layer\n",
        "\n",
        "def pool_backward(dA, cache, mode = \"max\"):\n",
        "    \n",
        "    # dA -> gradient of cost with respect to the output of the pooling layer, same shape as A\n",
        "    # cache -> cache output from the forward pass of the pooling layer, contains the layer's input and hparameters \n",
        "    # mode -> the pooling mode we would like to use, defined as a string (\"max\" or \"average\")\n",
        "    # dA_prev -> gradient of cost with respect to the input of the pooling layer, same shape as A_prev\n",
        "\n",
        "    (A_prev, hparameters) = cache                                # Retrieve information from cache\n",
        "    \n",
        "    stride = hparameters[\"stride\"]                               # Retrieve hyperparameters from \"hparameters\"\n",
        "    f = hparameters[\"f\"]\n",
        "    \n",
        "    m, n_H_prev, n_W_prev, n_C_prev = A_prev.shape               # Retrieve dimensions from A_prev's shape and dA's shape\n",
        "    m, n_H, n_W, n_C = dA.shape\n",
        "    \n",
        "    dA_prev = np.zeros(A_prev.shape)                             # Initialize dA_prev with zeros\n",
        "    \n",
        "    for i in range(m):                                           # loop over the training examples\n",
        "        a_prev = A_prev[i,:,:,:]                                 # select training example from A_prev\n",
        "        \n",
        "        for h in range(n_H):                                     # loop on the vertical axis\n",
        "            for w in range(n_W):                                 # loop on the horizontal axis\n",
        "                for c in range(n_C):                             # loop over the channels (depth)\n",
        "                    \n",
        "                    vert_start  = h * stride                     # Find the corners of the current \"slice\"\n",
        "                    vert_end    = h * stride + f\n",
        "                    horiz_start = w * stride\n",
        "                    horiz_end   = w * stride + f\n",
        "                    \n",
        "                    # Compute the backward propagation in both modes\n",
        "                    if mode == \"max\":\n",
        "                                               \n",
        "                        a_prev_slice = a_prev[ vert_start:vert_end, horiz_start:horiz_end, c ]                 # Use the corners and \"c\" to define the current slice from a_prev                    \n",
        "                        mask = create_mask_from_window( a_prev_slice )                                         # Create the mask from a_prev_slice\n",
        "                        dA_prev[i, vert_start:vert_end, horiz_start:horiz_end, c] += mask * dA[i, h, w, c]     # Set dA_prev to be dA_prev + (the mask multiplied by the correct entry of dA)\n",
        "                        \n",
        "                    elif mode == \"average\":\n",
        "                                              \n",
        "                        da = dA[i, h, w, c]                                                                           # Get the value da from dA\n",
        "                        shape = (f,f)                                                                                 # Define the shape of the filter as fxf\n",
        "                        dA_prev[i, vert_start: vert_end, horiz_start: horiz_end, c] += distribute_value(da, shape)    # Distribute it to get the correct slice of dA_prev. i.e. Add the distributed value of da\n",
        "    \n",
        "    return dA_prev"
      ],
      "metadata": {
        "id": "CB6pZwSmfk7Y"
      },
      "execution_count": null,
      "outputs": []
    }
  ]
}